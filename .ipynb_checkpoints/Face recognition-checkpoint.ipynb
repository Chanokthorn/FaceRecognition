{
 "cells": [
  {
   "cell_type": "markdown",
   "metadata": {},
   "source": [
    "# Load model"
   ]
  },
  {
   "cell_type": "code",
   "execution_count": 1,
   "metadata": {},
   "outputs": [
    {
     "name": "stdout",
     "output_type": "stream",
     "text": [
      "Net (\n",
      "  (fc1): Linear (136 -> 136)\n",
      "  (fc2): Linear (136 -> 64)\n",
      "  (fc3): Linear (64 -> 4)\n",
      ")\n",
      "Net (\n",
      "  (fc1): Linear (136 -> 136)\n",
      "  (fc2): Linear (136 -> 64)\n",
      "  (fc3): Linear (64 -> 4)\n",
      ")\n"
     ]
    }
   ],
   "source": [
    "import torch\n",
    "import torchvision\n",
    "import torchvision.transforms as transforms\n",
    "\n",
    "from torch.autograd import Variable\n",
    "import torch.nn as nn\n",
    "import torch.nn.functional as F\n",
    "\n",
    "import pickle\n",
    "\n",
    "def unpickle(file):\n",
    "    with open(file,'rb') as fo:\n",
    "        output = pickle.load(fo, encoding = 'ASCII')\n",
    "    return output\n",
    "\n",
    "class Net(nn.Module):\n",
    "    def __init__(self):\n",
    "        super(Net,self).__init__()\n",
    "        self.fc1 = nn.Linear(68 * 2, 68 * 2)\n",
    "        self.fc2 = nn.Linear(68 * 2, 64)\n",
    "        self.fc3 = nn.Linear(64, n)\n",
    "    def forward(self, x):\n",
    "        x = F.relu(self.fc1(x))\n",
    "        x = F.relu(self.fc2(x))\n",
    "        x = self.fc3(x)\n",
    "        return x\n",
    "\n",
    "n = 4\n",
    "    \n",
    "\n",
    "classes = ['Bone','Chal','TanawinBook','thipok']\n",
    "MODEL_PATH = 'faces/models/'\n",
    "# name = input('name: ')\n",
    "name = 'net'\n",
    "net = Net()\n",
    "print(net)\n",
    "net = unpickle(MODEL_PATH + name)\n",
    "print(net)\n",
    "def outputToTensor(labels):\n",
    "    # print(labels)\n",
    "    # print(labels.numpy().astype(int))\n",
    "    tmp = labels.numpy().astype(int)\n",
    "    # print([ np.where(r==1)[0][0] for r in tmp ])\n",
    "    tmp = [ np.where(r==1)[0][0] for r in tmp ]\n",
    "    tmp = np.array(tmp)\n",
    "    tmp = torch.from_numpy(tmp)\n",
    "    # print(tmp)\n",
    "    return tmp\n",
    "import matplotlib.pyplot as plt\n",
    "import numpy as np\n",
    "import cv2\n",
    "import sys\n",
    "sys.path.insert(0, \"/opt/intel/mkl/lib/intel64\")\n",
    "sys.path.insert(0, \"/usr/local/lib/python3.6/site-packages\")\n",
    "import dlib\n",
    "import numpy as np\n",
    "import logging\n",
    "import time\n",
    "from torch.autograd import Variable\n",
    "\n",
    "def dlibFacelandmarkToNumpy(shape, dtype=\"int\"):\n",
    "    coords = np.zeros((68, 2), dtype=dtype)\n",
    " \n",
    "    for i in range(0, 68):\n",
    "        coords[i] = (shape.part(i).x, shape.part(i).y)\n",
    " \n",
    "    return coords\n",
    " \n",
    "detector = dlib.get_frontal_face_detector()\n",
    "predictor = dlib.shape_predictor(\"shape_predictor_68_face_landmarks.dat\")"
   ]
  },
  {
   "cell_type": "code",
   "execution_count": 2,
   "metadata": {
    "collapsed": true
   },
   "outputs": [],
   "source": [
    "import torch\n",
    "import torchvision\n",
    "import torchvision.transforms as transforms\n",
    "\n",
    "classes = ['Bone','Chal','TanawinBook','thipok']\n",
    "MODEL_PATH = '/faces/models/'\n",
    "# name = input('name: ')\n",
    "name = 'firstTry'\n",
    "net = torch.load(MODEL_PATH + name)"
   ]
  },
  {
   "cell_type": "markdown",
   "metadata": {},
   "source": [
    "# Start Camera + everything"
   ]
  },
  {
   "cell_type": "code",
   "execution_count": 3,
   "metadata": {
    "collapsed": true
   },
   "outputs": [],
   "source": [
    "def outputToTensor(labels):\n",
    "    # print(labels)\n",
    "    # print(labels.numpy().astype(int))\n",
    "    tmp = labels.numpy().astype(int)\n",
    "    # print([ np.where(r==1)[0][0] for r in tmp ])\n",
    "    tmp = [ np.where(r==1)[0][0] for r in tmp ]\n",
    "    tmp = np.array(tmp)\n",
    "    tmp = torch.from_numpy(tmp)\n",
    "    # print(tmp)\n",
    "    return tmp"
   ]
  },
  {
   "cell_type": "code",
   "execution_count": 4,
   "metadata": {
    "collapsed": true
   },
   "outputs": [],
   "source": [
    "import matplotlib.pyplot as plt\n",
    "import numpy as np\n",
    "import cv2\n",
    "import sys\n",
    "sys.path.insert(0, \"/opt/intel/mkl/lib/intel64\")\n",
    "sys.path.insert(0, \"/usr/local/lib/python3.6/site-packages\")\n",
    "import dlib\n",
    "import numpy as np\n",
    "import logging\n",
    "import time\n",
    "from torch.autograd import Variable\n",
    "\n",
    "def dlibFacelandmarkToNumpy(shape, dtype=\"int\"):\n",
    "    coords = np.zeros((68, 2), dtype=dtype)\n",
    " \n",
    "    for i in range(0, 68):\n",
    "        coords[i] = (shape.part(i).x, shape.part(i).y)\n",
    " \n",
    "    return coords\n",
    " \n",
    "detector = dlib.get_frontal_face_detector()\n",
    "predictor = dlib.shape_predictor(\"shape_predictor_68_face_landmarks.dat\")"
   ]
  },
  {
   "cell_type": "code",
   "execution_count": 3,
   "metadata": {},
   "outputs": [
    {
     "name": "stdout",
     "output_type": "stream",
     "text": [
      "doneicted :   B o n e                         \n"
     ]
    }
   ],
   "source": [
    "videoInput = cv2.VideoCapture(0)\n",
    "data = np.ndarray((68,2), dtype = float)\n",
    "i = 0\n",
    "while (i < 100):\n",
    "    \n",
    "    _,frame = videoInput.read()\n",
    "   \n",
    "    gray = cv2.cvtColor(frame, cv2.COLOR_BGR2GRAY)\n",
    " \n",
    "    rects = detector(gray, 0)\n",
    "    for rect in rects:\n",
    "#         print('found')\n",
    "        shape = predictor(gray, rect)\n",
    "        shape = dlibFacelandmarkToNumpy(shape)\n",
    "        x, y, w, h = cv2.boundingRect(shape)\n",
    "#         print(shape)\n",
    "#         print('x:',x, 'y:', y, 'w:', w,'h:', h)\n",
    "        shape[:,0] -= x\n",
    "        shape[:,1] -= y\n",
    "        shape_x = shape[:,0]\n",
    "        shape_y = shape[:,1]\n",
    "        shape = shape.astype(float)\n",
    "        shape[:,0] = np.divide(shape_x, w)\n",
    "        shape[:,1] = np.divide(shape_y, h)\n",
    "        shape = shape.reshape(68 * 2)\n",
    "#         shape = np.append(shape,shape)\n",
    "#         shape = np.append(shape,shape)\n",
    "        datum = shape\n",
    "        datum = torch.from_numpy(datum)\n",
    "        datum = Variable(datum.float())\n",
    "#         print(datum)\n",
    "        output = net(datum)\n",
    "#         print(output)\n",
    "#         print(data)\n",
    "#         _, predicted = torch.max(output.data, 1)\n",
    "        _,predicted = torch.max(output,0)\n",
    "        predicted = predicted.data.numpy()\n",
    "#         print('predicted: ', predicted)\n",
    "        print('Predicted :',' '.join('%5s'% classes[int(predicted)] ), '                      ', end='\\r')\n",
    "        i += 1\n",
    "#         cv2.imshow(\"Frame\", frame)\n",
    "#         key = cv2.waitKey(1) & 0xFF\n",
    "#         if key == ord(\"q\"):\n",
    "#             break\n",
    "# do a bit of cleanup\n",
    "print('done')\n",
    "cv2.destroyAllWindows()\n",
    "videoInput.release()\n",
    "\n"
   ]
  }
 ],
 "metadata": {
  "kernelspec": {
   "display_name": "Python 3",
   "language": "python",
   "name": "python3"
  },
  "language_info": {
   "codemirror_mode": {
    "name": "ipython",
    "version": 3
   },
   "file_extension": ".py",
   "mimetype": "text/x-python",
   "name": "python",
   "nbconvert_exporter": "python",
   "pygments_lexer": "ipython3",
   "version": "3.5.2"
  }
 },
 "nbformat": 4,
 "nbformat_minor": 2
}
